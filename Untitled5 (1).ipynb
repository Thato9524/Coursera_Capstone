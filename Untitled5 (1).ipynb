{
 "cells": [
  {
   "cell_type": "markdown",
   "metadata": {},
   "source": [
    "# description of the problem \n",
    "\n",
    "Is it better to open a drug addiction centre in toronto or new york\n",
    "and would like to know between both places which is better interms:\n",
    "-number of drug addiction centres in both areas\n",
    "-number of drug addiction centres with high ratings in both areas\n",
    "-number of police station in both areas\n",
    "-number of hospitals in both areas\n",
    "using the Foursquare location data to solve the problem asdf\n",
    "\n",
    "#  background of the problem\n",
    "\n",
    "drug addiction is a existing problem in toronto or new york as seen in the links below\n",
    "\n",
    "Toronto:[https://www.statista.com/topics/4533/drug-use-in-canada/]\n",
    "New york:[https://www1.nyc.gov/site/doh/health/health-topics/alcohol-and-drug-use-data.page]\n",
    "\n",
    "I believes that it is better to open a drug addiction centre in a location where drug addiction is a existing problem and where there is few to no rehabs in an area with hospitals & police stations\n",
    "\n",
    "# Target audience \n",
    "\n",
    "Poeple and organisations(hospitals,mayor..ect) concerend with solving drug addiction within communities\n"
   ]
  },
  {
   "cell_type": "markdown",
   "metadata": {},
   "source": [
    "# solution  \n",
    "\n",
    "we will be using the Foursquare location data to solve the problem \n",
    "by retreiving & comparing the location data of toronto and new york\n",
    "to help decide where it would be better to open a drug addiction centre based off above search criteria given to us \n"
   ]
  }
 ],
 "metadata": {
  "kernelspec": {
   "display_name": "Python 3",
   "language": "python",
   "name": "python3"
  },
  "language_info": {
   "codemirror_mode": {
    "name": "ipython",
    "version": 3
   },
   "file_extension": ".py",
   "mimetype": "text/x-python",
   "name": "python",
   "nbconvert_exporter": "python",
   "pygments_lexer": "ipython3",
   "version": "3.8.3"
  }
 },
 "nbformat": 4,
 "nbformat_minor": 4
}
