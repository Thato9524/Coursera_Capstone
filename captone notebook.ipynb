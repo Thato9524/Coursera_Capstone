{
 "cells": [
  {
   "cell_type": "markdown",
   "metadata": {},
   "source": [
    "## Introduction: Business Problem ¶\n",
    "in New York City\n",
    "In this project we will use  data science tools to identify which borough in New York City has the most unique places to visit.\n",
    "\n",
    "## Target audience\n",
    "people looking to explore unique places to visit New York City\n",
    "\n",
    "## Background of the problem\n",
    "people looking to explore unique places in New York City usaully dont know which borough in New York City to visit that the most unique places in New York City\n",
    "\n",
    "## Data to be used for project \n",
    "foursquare location data (Borough,Borough Latitude,Borough Longitude,Venue,Venue Latitude,Venue Longitude,Venue Category)\n",
    "\n",
    "## Libraries used for project\n",
    "requests(library to handle requests),pandas(library for data analsysis),numpy(library to handle data in a vectorized manner),random(library for random number generation),Nominatim(module to convert an address into latitude and longitude values),Image&HTML(libraries for displaying images),json_normalize(tranforming json file into a pandas dataframe library),folium(plotting library)"
   ]
  },
  {
   "cell_type": "markdown",
   "metadata": {},
   "source": []
  }
 ],
 "metadata": {
  "kernelspec": {
   "display_name": "Python 3",
   "language": "python",
   "name": "python3"
  },
  "language_info": {
   "codemirror_mode": {
    "name": "ipython",
    "version": 3
   },
   "file_extension": ".py",
   "mimetype": "text/x-python",
   "name": "python",
   "nbconvert_exporter": "python",
   "pygments_lexer": "ipython3",
   "version": "3.8.3"
  }
 },
 "nbformat": 4,
 "nbformat_minor": 4
}
